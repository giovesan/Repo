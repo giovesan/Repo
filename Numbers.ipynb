{
 "cells": [
  {
   "cell_type": "markdown",
   "metadata": {},
   "source": [
    "EXERCISE 1\n",
    "Create a function that multiplies two numbers and prints the result"
   ]
  },
  {
   "cell_type": "code",
   "execution_count": 1,
   "metadata": {},
   "outputs": [
    {
     "name": "stdout",
     "output_type": "stream",
     "text": [
      "600\n"
     ]
    }
   ],
   "source": [
    "def multiply(int1, int2):\n",
    "    print(int1 * int2)\n",
    "    \n",
    "int1 = 20\n",
    "int2 = 30\n",
    "\n",
    "multiply(20,30)"
   ]
  },
  {
   "cell_type": "markdown",
   "metadata": {},
   "source": [
    "EXERCISE 2\n",
    "Calculate the following:\n",
    "Bill opens a bank account on January 1st 2020. He earns 20,000 hkd per month. Every year has to pay taxes, which are 12% of his earnings. Furthermore every month he has to pay the rent (9,000 hkd) and bills (300 hkd). His monthly living expenses are 7,000 hkd. However, this year he got lucky as he won 50,000 hkd at the lottery.\n",
    "How much money does Bill have on his bank account on December 31st?"
   ]
  },
  {
   "cell_type": "code",
   "execution_count": 2,
   "metadata": {},
   "outputs": [
    {
     "data": {
      "text/plain": [
       "65600.0"
      ]
     },
     "execution_count": 2,
     "metadata": {},
     "output_type": "execute_result"
    }
   ],
   "source": [
    "earning_per_month = 20000\n",
    "taxes = 0.12\n",
    "rent = 9000\n",
    "bills = 300\n",
    "expenses = 7000\n",
    "lottery = 50000\n",
    "\n",
    "(20000 - 0.12*20000 - 9000 - 300 - 7000) * 12 + 50000"
   ]
  },
  {
   "cell_type": "markdown",
   "metadata": {},
   "source": [
    "EXERCISE 3 \n",
    "Create a function that generates n random integers (value between 1 and 50). Print the list, then calculate the summation"
   ]
  },
  {
   "cell_type": "code",
   "execution_count": 3,
   "metadata": {},
   "outputs": [
    {
     "name": "stdout",
     "output_type": "stream",
     "text": [
      "[43, 15, 47, 37, 42, 10, 16, 32, 10, 3, 37, 17, 45, 49, 41, 9, 43, 16, 20]\n"
     ]
    }
   ],
   "source": [
    "import random\n",
    "\n",
    "def randomize(num):\n",
    "    listrand = []\n",
    "    for i in range(1, num):\n",
    "        a = random.randint(1,50)\n",
    "        listrand.append(a)\n",
    "    return listrand\n",
    "\n",
    "set1 = randomize(20)\n",
    "\n",
    "print(set1)"
   ]
  },
  {
   "cell_type": "code",
   "execution_count": 4,
   "metadata": {},
   "outputs": [
    {
     "name": "stdout",
     "output_type": "stream",
     "text": [
      "532\n"
     ]
    }
   ],
   "source": [
    "summation = 0\n",
    "counter = 0\n",
    "\n",
    "while counter < len(set1):\n",
    "    summation += set1[counter]\n",
    "    counter += 1\n",
    "    \n",
    "    \n",
    "print(summation)"
   ]
  },
  {
   "cell_type": "code",
   "execution_count": null,
   "metadata": {},
   "outputs": [],
   "source": []
  }
 ],
 "metadata": {
  "kernelspec": {
   "display_name": "Python 3",
   "language": "python",
   "name": "python3"
  },
  "language_info": {
   "codemirror_mode": {
    "name": "ipython",
    "version": 3
   },
   "file_extension": ".py",
   "mimetype": "text/x-python",
   "name": "python",
   "nbconvert_exporter": "python",
   "pygments_lexer": "ipython3",
   "version": "3.7.6"
  }
 },
 "nbformat": 4,
 "nbformat_minor": 4
}

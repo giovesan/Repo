{
 "cells": [
  {
   "cell_type": "markdown",
   "metadata": {},
   "source": [
    "EXERCISE 1\n",
    "Concatenate the following strings, store them in a new variable and print it.\n",
    "\n",
    "greetings = \"Hello!\"\n",
    "\n",
    "introduction = \"I am Giovanni\" (please, change my name with yours!)\n",
    "\n",
    "REMEMBER: the markdown section does not run code!"
   ]
  },
  {
   "cell_type": "code",
   "execution_count": 1,
   "metadata": {},
   "outputs": [
    {
     "name": "stdout",
     "output_type": "stream",
     "text": [
      "Hello! I am Giovanni\n"
     ]
    }
   ],
   "source": [
    "greetings = \"Hello!\"\n",
    "\n",
    "introduction = \"I am Giovanni\"\n",
    "\n",
    "heila = greetings + \" \" + introduction\n",
    "\n",
    "print(heila)"
   ]
  },
  {
   "cell_type": "markdown",
   "metadata": {},
   "source": [
    "EXERCISE 2\n",
    "Make the string all in capital letters and then all in lower case"
   ]
  },
  {
   "cell_type": "code",
   "execution_count": 2,
   "metadata": {},
   "outputs": [
    {
     "data": {
      "text/plain": [
       "'weird caps'"
      ]
     },
     "execution_count": 2,
     "metadata": {},
     "output_type": "execute_result"
    }
   ],
   "source": [
    "string = \"wEiRd CaPs\"\n",
    "\n",
    "string.upper()\n",
    "\n",
    "string.lower()"
   ]
  },
  {
   "cell_type": "markdown",
   "metadata": {},
   "source": [
    "EXERCISE 3\n",
    "Reverse the following string: \"A nut for a jar of tuna\""
   ]
  },
  {
   "cell_type": "code",
   "execution_count": 3,
   "metadata": {},
   "outputs": [
    {
     "name": "stdout",
     "output_type": "stream",
     "text": [
      "anut fo raj a rof tun A\n"
     ]
    }
   ],
   "source": [
    "to_reverse = \"A nut for a jar of tuna\"\n",
    "\n",
    "to_reverse[::-1]\n",
    "\n",
    "rev = \"\".join(reversed(to_reverse))\n",
    "\n",
    "print(rev)"
   ]
  },
  {
   "cell_type": "markdown",
   "metadata": {},
   "source": [
    "EXERCISE 4\n",
    "Split the string below using the symbols as separators (expected : ['Python', 'is', 'really', 'cool'])"
   ]
  },
  {
   "cell_type": "code",
   "execution_count": 4,
   "metadata": {},
   "outputs": [
    {
     "data": {
      "text/plain": [
       "['Python', 'is', 'really', 'cool']"
      ]
     },
     "execution_count": 4,
     "metadata": {},
     "output_type": "execute_result"
    }
   ],
   "source": [
    "import re\n",
    "statement = \"Python&is%really£cool\"\n",
    "\n",
    "re.split('&|%|£', statement)"
   ]
  },
  {
   "cell_type": "markdown",
   "metadata": {},
   "source": [
    "EXERCISE 5\n",
    "Become richer by changing \"hkd\" with \"usd\" in the sentence: \"Congrats, you won 2000 hkd!\". "
   ]
  },
  {
   "cell_type": "code",
   "execution_count": 5,
   "metadata": {},
   "outputs": [
    {
     "data": {
      "text/plain": [
       "'Congrats you won 2000 usd!'"
      ]
     },
     "execution_count": 5,
     "metadata": {},
     "output_type": "execute_result"
    }
   ],
   "source": [
    "word = \"Congrats you won 2000 hkd!\"\n",
    "\n",
    "word.replace(\"hkd\", \"usd\")"
   ]
  },
  {
   "cell_type": "markdown",
   "metadata": {},
   "source": [
    "EXERCISE 6\n",
    "Take the previous string and insert your name after Congrats (either with string replacement or format. Expected outcome with my name: \"Congrats Giovanni, you won 2000 hkd!)"
   ]
  },
  {
   "cell_type": "code",
   "execution_count": 6,
   "metadata": {},
   "outputs": [
    {
     "name": "stdout",
     "output_type": "stream",
     "text": [
      "Congrats Giovanni, you won 2000 usd!\n"
     ]
    }
   ],
   "source": [
    "my_name = \"Giovanni\"\n",
    "\n",
    "#string replacement\n",
    "phrase = \"Congrats %s, you won 2000 usd!\"%(my_name)\n",
    "\n",
    "#format\n",
    "phrase = \"Congrats {}, you won 2000 usd!\".format(my_name)\n",
    "\n",
    "print(phrase)"
   ]
  },
  {
   "cell_type": "markdown",
   "metadata": {},
   "source": [
    "EXERCISE 7\n",
    "Order alphabetically the letters in the following string: \"supercalifragilisticexpialidocious\" (expected outcome: \"aaacccdeefgiiiiiiillloopprrssstuux\")"
   ]
  },
  {
   "cell_type": "code",
   "execution_count": 7,
   "metadata": {},
   "outputs": [
    {
     "name": "stdout",
     "output_type": "stream",
     "text": [
      "aaacccdeefgiiiiiiillloopprrssstuux\n"
     ]
    }
   ],
   "source": [
    "word = \"supercalifragilisticexpialidocious\"\n",
    "\n",
    "word_sorted = sorted(word)\n",
    "\n",
    "word_joined = \"\".join(word_sorted)\n",
    "\n",
    "print(word_joined)"
   ]
  }
 ],
 "metadata": {
  "kernelspec": {
   "display_name": "Python 3",
   "language": "python",
   "name": "python3"
  },
  "language_info": {
   "codemirror_mode": {
    "name": "ipython",
    "version": 3
   },
   "file_extension": ".py",
   "mimetype": "text/x-python",
   "name": "python",
   "nbconvert_exporter": "python",
   "pygments_lexer": "ipython3",
   "version": "3.7.6"
  }
 },
 "nbformat": 4,
 "nbformat_minor": 4
}
